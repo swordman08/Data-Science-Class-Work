{
 "cells": [
  {
   "cell_type": "code",
   "execution_count": 155,
   "metadata": {},
   "outputs": [],
   "source": [
    "import warnings\n",
    "warnings.filterwarnings('ignore')\n",
    "\n",
    "# data imports\n",
    "import pandas as pd\n",
    "import numpy as np\n",
    "from plotnine import *\n",
    "\n",
    "# modeling imports\n",
    "from sklearn.neighbors import NearestNeighbors\n",
    "from sklearn.tree import DecisionTreeClassifier, DecisionTreeRegressor # Decision Tree\n",
    "from sklearn.ensemble import RandomForestClassifier, RandomForestRegressor # random forest\n",
    "from sklearn.linear_model import LogisticRegression\n",
    "from sklearn.linear_model import LinearRegression, LassoCV, RidgeCV # Linear Regression Model\n",
    "from sklearn.preprocessing import StandardScaler #Z-score variables\n",
    "from sklearn.metrics import mean_squared_error, r2_score, mean_absolute_percentage_error, mean_absolute_error #model evaluation\n",
    "from sklearn.model_selection import train_test_split, KFold, LeaveOneOut\n",
    "from sklearn.metrics import accuracy_score, confusion_matrix,\\\n",
    " f1_score, recall_score, precision_score, roc_auc_score\n",
    "import matplotlib.pyplot as plt\n",
    "from sklearn.metrics import ConfusionMatrixDisplay, RocCurveDisplay\n",
    "from sklearn.ensemble import GradientBoostingClassifier, GradientBoostingRegressor # gradient boosting\n",
    "from sklearn.calibration import calibration_curve\n",
    "# Z, One hot, Stand sclr\n",
    "from sklearn.preprocessing import StandardScaler, OneHotEncoder #Z-score variables\n",
    "#poly import\n",
    "from sklearn.preprocessing import PolynomialFeatures\n",
    "# pipeline imports\n",
    "from sklearn.pipeline import make_pipeline, Pipeline\n",
    "from sklearn.compose import make_column_transformer\n",
    "\n",
    "%matplotlib inline\n",
    "\n",
    "\n",
    "\n",
    "\n",
    "\n",
    "\n",
    "\n",
    "\n",
    "\n",
    "\n",
    "\n"
   ]
  },
  {
   "cell_type": "code",
   "execution_count": 156,
   "metadata": {},
   "outputs": [
    {
     "data": {
      "text/html": [
       "<div>\n",
       "<style scoped>\n",
       "    .dataframe tbody tr th:only-of-type {\n",
       "        vertical-align: middle;\n",
       "    }\n",
       "\n",
       "    .dataframe tbody tr th {\n",
       "        vertical-align: top;\n",
       "    }\n",
       "\n",
       "    .dataframe thead th {\n",
       "        text-align: right;\n",
       "    }\n",
       "</style>\n",
       "<table border=\"1\" class=\"dataframe\">\n",
       "  <thead>\n",
       "    <tr style=\"text-align: right;\">\n",
       "      <th></th>\n",
       "      <th>gender</th>\n",
       "      <th>age</th>\n",
       "      <th>income</th>\n",
       "      <th>monthssubbed</th>\n",
       "      <th>plan</th>\n",
       "      <th>meanhourswatched</th>\n",
       "      <th>competitorsub</th>\n",
       "      <th>numprofiles</th>\n",
       "      <th>cancelled</th>\n",
       "      <th>downgraded</th>\n",
       "      <th>bundle</th>\n",
       "      <th>kids</th>\n",
       "      <th>longestsession</th>\n",
       "      <th>topgenre</th>\n",
       "      <th>secondgenre</th>\n",
       "      <th>churn</th>\n",
       "    </tr>\n",
       "  </thead>\n",
       "  <tbody>\n",
       "    <tr>\n",
       "      <th>0</th>\n",
       "      <td>woman</td>\n",
       "      <td>38.0</td>\n",
       "      <td>92.29</td>\n",
       "      <td>35</td>\n",
       "      <td>P</td>\n",
       "      <td>9.34</td>\n",
       "      <td>0</td>\n",
       "      <td>1</td>\n",
       "      <td>0.0</td>\n",
       "      <td>0</td>\n",
       "      <td>0</td>\n",
       "      <td>1</td>\n",
       "      <td>130.39</td>\n",
       "      <td>Drama</td>\n",
       "      <td>Thriller</td>\n",
       "      <td>0</td>\n",
       "    </tr>\n",
       "    <tr>\n",
       "      <th>1</th>\n",
       "      <td>woman</td>\n",
       "      <td>43.0</td>\n",
       "      <td>63.40</td>\n",
       "      <td>41</td>\n",
       "      <td>P</td>\n",
       "      <td>11.36</td>\n",
       "      <td>0</td>\n",
       "      <td>2</td>\n",
       "      <td>0.0</td>\n",
       "      <td>0</td>\n",
       "      <td>1</td>\n",
       "      <td>1</td>\n",
       "      <td>144.10</td>\n",
       "      <td>Horror</td>\n",
       "      <td>RomanticComedy</td>\n",
       "      <td>0</td>\n",
       "    </tr>\n",
       "    <tr>\n",
       "      <th>2</th>\n",
       "      <td>nonbinary</td>\n",
       "      <td>54.0</td>\n",
       "      <td>54.87</td>\n",
       "      <td>59</td>\n",
       "      <td>A</td>\n",
       "      <td>11.82</td>\n",
       "      <td>1</td>\n",
       "      <td>2</td>\n",
       "      <td>0.0</td>\n",
       "      <td>0</td>\n",
       "      <td>0</td>\n",
       "      <td>1</td>\n",
       "      <td>256.46</td>\n",
       "      <td>ScienceFiction</td>\n",
       "      <td>Comedy</td>\n",
       "      <td>1</td>\n",
       "    </tr>\n",
       "    <tr>\n",
       "      <th>3</th>\n",
       "      <td>woman</td>\n",
       "      <td>46.0</td>\n",
       "      <td>89.20</td>\n",
       "      <td>41</td>\n",
       "      <td>B</td>\n",
       "      <td>46.89</td>\n",
       "      <td>1</td>\n",
       "      <td>2</td>\n",
       "      <td>1.0</td>\n",
       "      <td>1</td>\n",
       "      <td>1</td>\n",
       "      <td>0</td>\n",
       "      <td>47.66</td>\n",
       "      <td>RomanticComedy</td>\n",
       "      <td>ScienceFiction</td>\n",
       "      <td>1</td>\n",
       "    </tr>\n",
       "    <tr>\n",
       "      <th>4</th>\n",
       "      <td>man</td>\n",
       "      <td>42.0</td>\n",
       "      <td>75.61</td>\n",
       "      <td>17</td>\n",
       "      <td>A</td>\n",
       "      <td>39.18</td>\n",
       "      <td>1</td>\n",
       "      <td>2</td>\n",
       "      <td>0.0</td>\n",
       "      <td>0</td>\n",
       "      <td>0</td>\n",
       "      <td>0</td>\n",
       "      <td>137.22</td>\n",
       "      <td>Comedy</td>\n",
       "      <td>Drama</td>\n",
       "      <td>0</td>\n",
       "    </tr>\n",
       "  </tbody>\n",
       "</table>\n",
       "</div>"
      ],
      "text/plain": [
       "      gender   age  income  monthssubbed plan  meanhourswatched  \\\n",
       "0      woman  38.0   92.29            35    P              9.34   \n",
       "1      woman  43.0   63.40            41    P             11.36   \n",
       "2  nonbinary  54.0   54.87            59    A             11.82   \n",
       "3      woman  46.0   89.20            41    B             46.89   \n",
       "4        man  42.0   75.61            17    A             39.18   \n",
       "\n",
       "   competitorsub  numprofiles  cancelled  downgraded  bundle  kids  \\\n",
       "0              0            1        0.0           0       0     1   \n",
       "1              0            2        0.0           0       1     1   \n",
       "2              1            2        0.0           0       0     1   \n",
       "3              1            2        1.0           1       1     0   \n",
       "4              1            2        0.0           0       0     0   \n",
       "\n",
       "   longestsession        topgenre     secondgenre  churn  \n",
       "0          130.39           Drama        Thriller      0  \n",
       "1          144.10          Horror  RomanticComedy      0  \n",
       "2          256.46  ScienceFiction          Comedy      1  \n",
       "3           47.66  RomanticComedy  ScienceFiction      1  \n",
       "4          137.22          Comedy           Drama      0  "
      ]
     },
     "execution_count": 156,
     "metadata": {},
     "output_type": "execute_result"
    }
   ],
   "source": [
    "ama = pd.read_csv(\"https://raw.githubusercontent.com/cmparlettpelleriti/CPSC392ParlettPelleriti/master/Data/streaming.csv\")\n",
    "\n",
    "ama.head()"
   ]
  },
  {
   "cell_type": "code",
   "execution_count": 157,
   "metadata": {},
   "outputs": [
    {
     "data": {
      "text/plain": [
       "gender                 0\n",
       "age                 1993\n",
       "income              1492\n",
       "monthssubbed           0\n",
       "plan                   0\n",
       "meanhourswatched       0\n",
       "competitorsub          0\n",
       "numprofiles            0\n",
       "cancelled            200\n",
       "downgraded             0\n",
       "bundle                 0\n",
       "kids                   0\n",
       "longestsession         0\n",
       "topgenre               0\n",
       "secondgenre            0\n",
       "churn                  0\n",
       "dtype: int64"
      ]
     },
     "execution_count": 157,
     "metadata": {},
     "output_type": "execute_result"
    }
   ],
   "source": [
    "#Check Null\n",
    "ama.isnull().sum()"
   ]
  },
  {
   "cell_type": "code",
   "execution_count": null,
   "metadata": {},
   "outputs": [],
   "source": []
  },
  {
   "cell_type": "code",
   "execution_count": 158,
   "metadata": {},
   "outputs": [],
   "source": [
    "ama.dropna(inplace = True)\n",
    "ama.reset_index(inplace = True)"
   ]
  },
  {
   "cell_type": "code",
   "execution_count": 159,
   "metadata": {},
   "outputs": [],
   "source": [
    "predictors = [\"age\",\"income\",\"monthssubbed\",\"meanhourswatched\",\"competitorsub\",\"numprofiles\",\"cancelled\",\"downgraded\",\"bundle\",\"kids\",\"longestsession\",\"gender\",\"plan\", \"topgenre\", \"secondgenre\"]\n",
    "contin = [\"age\",\"income\",\"monthssubbed\",\"meanhourswatched\",\"competitorsub\",\"numprofiles\",\"cancelled\",\"downgraded\",\"bundle\",\"kids\",\"longestsession\"]"
   ]
  },
  {
   "cell_type": "code",
   "execution_count": 160,
   "metadata": {},
   "outputs": [],
   "source": [
    "X = ama[predictors]\n",
    "y = ama[\"churn\"]"
   ]
  },
  {
   "cell_type": "code",
   "execution_count": 161,
   "metadata": {},
   "outputs": [],
   "source": [
    "drop_first=True"
   ]
  },
  {
   "cell_type": "code",
   "execution_count": 162,
   "metadata": {},
   "outputs": [],
   "source": [
    "X_train, X_test, y_train, y_test = train_test_split(X,y, test_size = 0.1,random_state = 123)\n",
    "\n"
   ]
  },
  {
   "cell_type": "code",
   "execution_count": 163,
   "metadata": {},
   "outputs": [],
   "source": [
    "preprocess = make_column_transformer((StandardScaler(), contin),\n",
    "                            (OneHotEncoder(), [\"gender\", \"plan\", \"topgenre\", \"secondgenre\"]),\n",
    "                            remainder = \"passthrough\")"
   ]
  },
  {
   "cell_type": "code",
   "execution_count": 164,
   "metadata": {},
   "outputs": [],
   "source": [
    "lr = LogisticRegression()\n",
    "tree = DecisionTreeClassifier(random_state = 1234)\n",
    "pipe = Pipeline([(\"pre\", preprocess),\n",
    "         (\"logisticalregression\", lr)])\n",
    "gradient = Pipeline([ (\"prep\", preprocess),\n",
    " (\"classifier\", GradientBoostingClassifier(n_estimators=15, learning_rate=0.2, max_depth=1, random_state=42))\n",
    "])"
   ]
  },
  {
   "cell_type": "code",
   "execution_count": null,
   "metadata": {},
   "outputs": [],
   "source": [
    "\n",
    "\n"
   ]
  },
  {
   "cell_type": "code",
   "execution_count": 165,
   "metadata": {},
   "outputs": [
    {
     "name": "stdout",
     "output_type": "stream",
     "text": [
      "<sklearn.metrics._plot.confusion_matrix.ConfusionMatrixDisplay object at 0x000001F0177958B0>\n"
     ]
    },
    {
     "data": {
      "image/png": "[encoded data removed]",
      "text/plain": [
       "<Figure size 640x480 with 2 Axes>"
      ]
     },
     "metadata": {},
     "output_type": "display_data"
    }
   ],
   "source": [
    "#gradient\n",
    "gradient.fit(X_train, y_train)\n",
    "gradient_boosting_train_preds = gradient.predict(X_train)\n",
    "gradient_boosting_test_preds = gradient.predict(X_test)\n",
    "gradient_boosting_train_prob = gradient.predict_proba(X_train)[:,1]\n",
    "gradient_boosting_test_prob = gradient.predict_proba(X_test)[:,1]\n",
    "\n",
    "print(ConfusionMatrixDisplay.from_predictions(y_test, gradient.predict(X_test)))"
   ]
  },
  {
   "cell_type": "markdown",
   "metadata": {},
   "source": []
  },
  {
   "cell_type": "code",
   "execution_count": 166,
   "metadata": {},
   "outputs": [
    {
     "name": "stdout",
     "output_type": "stream",
     "text": [
      "<sklearn.metrics._plot.confusion_matrix.ConfusionMatrixDisplay object at 0x000001F015F9AE70>\n"
     ]
    },
    {
     "data": {
      "image/png": "[encoded data removed]",
      "text/plain": [
       "<Figure size 640x480 with 2 Axes>"
      ]
     },
     "metadata": {},
     "output_type": "display_data"
    }
   ],
   "source": [
    "#logistic\n",
    "pipe.fit(X_train, y_train)\n",
    "y_pred_train = pipe.predict(X_train)\n",
    "y_pred_test = pipe.predict(X_test)\n",
    "y_pred_train_prob = pipe.predict_proba(X_train)[:,1]\n",
    "y_pred_test_prob = pipe.predict_proba(X_test)[:,1]\n",
    "print(ConfusionMatrixDisplay.from_predictions(y_test, pipe.predict(X_test)))"
   ]
  },
  {
   "cell_type": "code",
   "execution_count": null,
   "metadata": {},
   "outputs": [],
   "source": [
    "\n",
    "\n"
   ]
  },
  {
   "cell_type": "code",
   "execution_count": 167,
   "metadata": {},
   "outputs": [
    {
     "name": "stdout",
     "output_type": "stream",
     "text": [
      "Logistic Regression\n",
      "Train Acc       :  0.7409661600528641\n",
      "Test Acc        :  0.7424100156494523\n",
      "Train Prescision:  0.6045072912063633\n",
      "Test Prescision :  0.6197068403908795\n",
      "Train Recall    :  0.27682221053057593\n",
      "Test Recall     :  0.27542526239594645\n",
      "Train ROC AUC   :  0.7355394376242139\n",
      "Test ROC AUC    :  0.7384521538489778\n",
      "Gradient Boosting Tree\n",
      "Train Acc       :  0.7200987723020207\n",
      "Test Acc        :  0.7171622326551904\n",
      "Train Prescision:  0.7623026926648097\n",
      "Test Prescision :  0.7\n",
      "Train Recall    :  0.03322675948035129\n",
      "Test Recall     :  0.0329352153456388\n",
      "Train ROC AUC   :  0.7160456716998206\n",
      "Test ROC AUC    :  0.7189982103205943\n"
     ]
    }
   ],
   "source": [
    "print(\"Logistic Regression\")\n",
    "print(\"Train Acc       : \", accuracy_score(y_train, y_pred_train))\n",
    "print(\"Test Acc        : \", accuracy_score(y_test, y_pred_test))\n",
    "print(\"Train Prescision: \", precision_score(y_train, y_pred_train))\n",
    "print(\"Test Prescision : \", precision_score(y_test, y_pred_test))\n",
    "print(\"Train Recall    : \", recall_score(y_train, y_pred_train))\n",
    "print(\"Test Recall     : \", recall_score(y_test, y_pred_test))\n",
    "print(\"Train ROC AUC   : \", roc_auc_score(y_train, y_pred_train_prob))\n",
    "print(\"Test ROC AUC    : \", roc_auc_score(y_test, y_pred_test_prob))\n",
    "\n",
    "print(\"Gradient Boosting Tree\")\n",
    "print(\"Train Acc       : \", accuracy_score(y_train, gradient_boosting_train_preds))\n",
    "print(\"Test Acc        : \", accuracy_score(y_test, gradient_boosting_test_preds))\n",
    "print(\"Train Prescision: \", precision_score(y_train, gradient_boosting_train_preds))\n",
    "print(\"Test Prescision : \", precision_score(y_test, gradient_boosting_test_preds))\n",
    "print(\"Train Recall    : \", recall_score(y_train, gradient_boosting_train_preds))\n",
    "print(\"Test Recall     : \", recall_score(y_test, gradient_boosting_test_preds))\n",
    "print(\"Train ROC AUC   : \", roc_auc_score(y_train, gradient_boosting_train_prob))\n",
    "print(\"Test ROC AUC    : \", roc_auc_score(y_test, gradient_boosting_test_prob))\n",
    "\n"
   ]
  },
  {
   "cell_type": "code",
   "execution_count": null,
   "metadata": {},
   "outputs": [],
   "source": []
  },
  {
   "cell_type": "code",
   "execution_count": 168,
   "metadata": {},
   "outputs": [],
   "source": [
    "#RocCurveDisplay.from_predictions(y_train, y_pred_train_prob)"
   ]
  },
  {
   "cell_type": "code",
   "execution_count": 169,
   "metadata": {},
   "outputs": [
    {
     "name": "stdout",
     "output_type": "stream",
     "text": [
      "        gender   age  income  meanhourswatched  \\\n",
      "42       woman  26.0   57.69             22.30   \n",
      "339      woman  20.0   52.05              9.36   \n",
      "217      woman  69.0   33.62             22.90   \n",
      "228      woman  28.0   46.20              1.65   \n",
      "103      woman  39.0   52.25             29.91   \n",
      "..         ...   ...     ...               ...   \n",
      "129  nonbinary  58.0   57.80             19.75   \n",
      "422      woman  21.0   45.43              1.60   \n",
      "476      woman  39.0   86.32             47.53   \n",
      "192      woman  69.0   55.10             19.50   \n",
      "207      other  34.0   63.58             13.53   \n",
      "\n",
      "                                          neighbors  \n",
      "42    [182, 181, 64, 142, 57, 100, 33, 63, 86, 114]  \n",
      "339  [181, 142, 63, 86, 33, 100, 64, 182, 197, 139]  \n",
      "217     [57, 44, 182, 64, 114, 86, 24, 17, 142, 31]  \n",
      "228    [181, 142, 86, 63, 139, 89, 114, 67, 33, 96]  \n",
      "103   [182, 57, 64, 181, 142, 31, 114, 86, 100, 44]  \n",
      "..                                              ...  \n",
      "129   [181, 142, 86, 64, 182, 114, 57, 139, 17, 63]  \n",
      "422   [181, 142, 63, 86, 139, 33, 89, 67, 100, 197]  \n",
      "476   [182, 57, 64, 181, 100, 31, 33, 142, 63, 114]  \n",
      "192   [86, 142, 181, 64, 114, 182, 57, 17, 139, 89]  \n",
      "207  [181, 142, 63, 86, 64, 182, 33, 100, 114, 139]  \n",
      "\n",
      "[200 rows x 5 columns]\n"
     ]
    }
   ],
   "source": [
    "ndata = pd.read_csv(\"https://raw.githubusercontent.com/cmparlettpelleriti/CPSC392ParlettPelleriti/master/Data/streamingNEW.csv\")\n",
    "\n",
    "favfilms = pd.read_csv(\"https://raw.githubusercontent.com/cmparlettpelleriti/CPSC392ParlettPelleriti/master/Data/streamingFILMS.csv\")\n",
    "# Create a DataFrame from the CSV file\n",
    "ndata.dropna(inplace = True)\n",
    "ndata.reset_index(inplace = True)\n",
    "\n",
    "\n",
    "X = ndata[predictors]\n",
    "\n",
    "#print(\"Number of features in your dataset:\", ndata.shape[1])\n",
    "\n",
    "y_pred_new = pipe.predict(X)\n",
    "\n",
    "y_pred_new_probability = pipe.predict_proba(X)[:,1]\n",
    "\n",
    "ndata[\"churn_probability\"] = y_pred_new_probability\n",
    "#print(ndata.head())\n",
    "High_Risk_Custys = ndata.nlargest(200, \"churn_probability\")\n",
    "\n",
    "feat = [\"age\", \"income\", \"meanhourswatched\"]\n",
    "\n",
    "z = make_column_transformer((StandardScaler(), feat))\n",
    "nn = NearestNeighbors(n_neighbors = 10)\n",
    "films = favfilms[feat]\n",
    "\n",
    "nnpipe = Pipeline([(\"z\", z), (\"model\",nn)])\n",
    "nnpipe.fit(High_Risk_Custys[feat])\n",
    "similar_users_indices = nn.kneighbors((High_Risk_Custys)[['age', 'income', 'meanhourswatched']], return_distance=False)\n",
    "High_Risk_Custys['neighbors'] = similar_users_indices.tolist()\n",
    "print(High_Risk_Custys[['gender', 'age', 'income', 'meanhourswatched', 'neighbors']])\n",
    "\n"
   ]
  },
  {
   "cell_type": "code",
   "execution_count": 170,
   "metadata": {},
   "outputs": [],
   "source": [
    "\n",
    "\n",
    "High_Risk_Custys.to_csv(\"myfile.csv\", index=False)"
   ]
  },
  {
   "cell_type": "code",
   "execution_count": null,
   "metadata": {},
   "outputs": [],
   "source": [
    "\n"
   ]
  },
  {
   "cell_type": "code",
   "execution_count": null,
   "metadata": {},
   "outputs": [],
   "source": []
  },
  {
   "cell_type": "markdown",
   "metadata": {},
   "source": []
  }
 ],
 "metadata": {
  "kernelspec": {
   "display_name": "Python 3",
   "language": "python",
   "name": "python3"
  },
  "language_info": {
   "codemirror_mode": {
    "name": "ipython",
    "version": 3
   },
   "file_extension": ".py",
   "mimetype": "text/x-python",
   "name": "python",
   "nbconvert_exporter": "python",
   "pygments_lexer": "ipython3",
   "version": "3.12.0"
  }
 },
 "nbformat": 4,
 "nbformat_minor": 2
}
